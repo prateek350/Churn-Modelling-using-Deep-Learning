{
 "cells": [
  {
   "cell_type": "code",
   "execution_count": null,
   "id": "b99d6a58",
   "metadata": {},
   "outputs": [],
   "source": [
    "!pip install tensorflow"
   ]
  },
  {
   "cell_type": "code",
   "execution_count": null,
   "id": "eb2bdb34",
   "metadata": {},
   "outputs": [],
   "source": []
  },
  {
   "cell_type": "code",
   "execution_count": 1,
   "id": "0bf4f890",
   "metadata": {},
   "outputs": [
    {
     "name": "stderr",
     "output_type": "stream",
     "text": [
      "C:\\Users\\91626\\anaconda3\\lib\\site-packages\\scipy\\__init__.py:155: UserWarning: A NumPy version >=1.18.5 and <1.25.0 is required for this version of SciPy (detected version 1.26.4\n",
      "  warnings.warn(f\"A NumPy version >={np_minversion} and <{np_maxversion}\"\n"
     ]
    },
    {
     "name": "stdout",
     "output_type": "stream",
     "text": [
      "WARNING:tensorflow:From C:\\Users\\91626\\anaconda3\\lib\\site-packages\\keras\\src\\losses.py:2976: The name tf.losses.sparse_softmax_cross_entropy is deprecated. Please use tf.compat.v1.losses.sparse_softmax_cross_entropy instead.\n",
      "\n"
     ]
    }
   ],
   "source": [
    "import tensorflow as tf"
   ]
  },
  {
   "cell_type": "code",
   "execution_count": 2,
   "id": "716e5745",
   "metadata": {},
   "outputs": [
    {
     "name": "stdout",
     "output_type": "stream",
     "text": [
      "Requirement already satisfied: numpy in c:\\users\\91626\\anaconda3\\lib\\site-packages (1.26.4)\n",
      "Note: you may need to restart the kernel to use updated packages.\n"
     ]
    }
   ],
   "source": [
    "pip install numpy"
   ]
  },
  {
   "cell_type": "code",
   "execution_count": 3,
   "id": "7ea84d8e",
   "metadata": {},
   "outputs": [
    {
     "name": "stdout",
     "output_type": "stream",
     "text": [
      "2.15.0\n"
     ]
    }
   ],
   "source": [
    "print(tf.__version__)"
   ]
  },
  {
   "cell_type": "code",
   "execution_count": 4,
   "id": "b97563c5",
   "metadata": {},
   "outputs": [],
   "source": [
    "import numpy as np\n",
    "import matplotlib.pyplot as plt\n",
    "import pandas as pd"
   ]
  },
  {
   "cell_type": "code",
   "execution_count": 5,
   "id": "92cf71f5",
   "metadata": {},
   "outputs": [],
   "source": [
    "dataset=pd.read_csv(\"Churn_Modelling.csv\")"
   ]
  },
  {
   "cell_type": "code",
   "execution_count": 6,
   "id": "ca872833",
   "metadata": {},
   "outputs": [
    {
     "data": {
      "text/html": [
       "<div>\n",
       "<style scoped>\n",
       "    .dataframe tbody tr th:only-of-type {\n",
       "        vertical-align: middle;\n",
       "    }\n",
       "\n",
       "    .dataframe tbody tr th {\n",
       "        vertical-align: top;\n",
       "    }\n",
       "\n",
       "    .dataframe thead th {\n",
       "        text-align: right;\n",
       "    }\n",
       "</style>\n",
       "<table border=\"1\" class=\"dataframe\">\n",
       "  <thead>\n",
       "    <tr style=\"text-align: right;\">\n",
       "      <th></th>\n",
       "      <th>RowNumber</th>\n",
       "      <th>CustomerId</th>\n",
       "      <th>Surname</th>\n",
       "      <th>CreditScore</th>\n",
       "      <th>Geography</th>\n",
       "      <th>Gender</th>\n",
       "      <th>Age</th>\n",
       "      <th>Tenure</th>\n",
       "      <th>Balance</th>\n",
       "      <th>NumOfProducts</th>\n",
       "      <th>HasCrCard</th>\n",
       "      <th>IsActiveMember</th>\n",
       "      <th>EstimatedSalary</th>\n",
       "      <th>Exited</th>\n",
       "    </tr>\n",
       "  </thead>\n",
       "  <tbody>\n",
       "    <tr>\n",
       "      <th>0</th>\n",
       "      <td>1</td>\n",
       "      <td>15634602</td>\n",
       "      <td>Hargrave</td>\n",
       "      <td>619</td>\n",
       "      <td>France</td>\n",
       "      <td>Female</td>\n",
       "      <td>42</td>\n",
       "      <td>2</td>\n",
       "      <td>0.00</td>\n",
       "      <td>1</td>\n",
       "      <td>1</td>\n",
       "      <td>1</td>\n",
       "      <td>101348.88</td>\n",
       "      <td>1</td>\n",
       "    </tr>\n",
       "    <tr>\n",
       "      <th>1</th>\n",
       "      <td>2</td>\n",
       "      <td>15647311</td>\n",
       "      <td>Hill</td>\n",
       "      <td>608</td>\n",
       "      <td>Spain</td>\n",
       "      <td>Female</td>\n",
       "      <td>41</td>\n",
       "      <td>1</td>\n",
       "      <td>83807.86</td>\n",
       "      <td>1</td>\n",
       "      <td>0</td>\n",
       "      <td>1</td>\n",
       "      <td>112542.58</td>\n",
       "      <td>0</td>\n",
       "    </tr>\n",
       "    <tr>\n",
       "      <th>2</th>\n",
       "      <td>3</td>\n",
       "      <td>15619304</td>\n",
       "      <td>Onio</td>\n",
       "      <td>502</td>\n",
       "      <td>France</td>\n",
       "      <td>Female</td>\n",
       "      <td>42</td>\n",
       "      <td>8</td>\n",
       "      <td>159660.80</td>\n",
       "      <td>3</td>\n",
       "      <td>1</td>\n",
       "      <td>0</td>\n",
       "      <td>113931.57</td>\n",
       "      <td>1</td>\n",
       "    </tr>\n",
       "    <tr>\n",
       "      <th>3</th>\n",
       "      <td>4</td>\n",
       "      <td>15701354</td>\n",
       "      <td>Boni</td>\n",
       "      <td>699</td>\n",
       "      <td>France</td>\n",
       "      <td>Female</td>\n",
       "      <td>39</td>\n",
       "      <td>1</td>\n",
       "      <td>0.00</td>\n",
       "      <td>2</td>\n",
       "      <td>0</td>\n",
       "      <td>0</td>\n",
       "      <td>93826.63</td>\n",
       "      <td>0</td>\n",
       "    </tr>\n",
       "    <tr>\n",
       "      <th>4</th>\n",
       "      <td>5</td>\n",
       "      <td>15737888</td>\n",
       "      <td>Mitchell</td>\n",
       "      <td>850</td>\n",
       "      <td>Spain</td>\n",
       "      <td>Female</td>\n",
       "      <td>43</td>\n",
       "      <td>2</td>\n",
       "      <td>125510.82</td>\n",
       "      <td>1</td>\n",
       "      <td>1</td>\n",
       "      <td>1</td>\n",
       "      <td>79084.10</td>\n",
       "      <td>0</td>\n",
       "    </tr>\n",
       "  </tbody>\n",
       "</table>\n",
       "</div>"
      ],
      "text/plain": [
       "   RowNumber  CustomerId   Surname  CreditScore Geography  Gender  Age  \\\n",
       "0          1    15634602  Hargrave          619    France  Female   42   \n",
       "1          2    15647311      Hill          608     Spain  Female   41   \n",
       "2          3    15619304      Onio          502    France  Female   42   \n",
       "3          4    15701354      Boni          699    France  Female   39   \n",
       "4          5    15737888  Mitchell          850     Spain  Female   43   \n",
       "\n",
       "   Tenure    Balance  NumOfProducts  HasCrCard  IsActiveMember  \\\n",
       "0       2       0.00              1          1               1   \n",
       "1       1   83807.86              1          0               1   \n",
       "2       8  159660.80              3          1               0   \n",
       "3       1       0.00              2          0               0   \n",
       "4       2  125510.82              1          1               1   \n",
       "\n",
       "   EstimatedSalary  Exited  \n",
       "0        101348.88       1  \n",
       "1        112542.58       0  \n",
       "2        113931.57       1  \n",
       "3         93826.63       0  \n",
       "4         79084.10       0  "
      ]
     },
     "execution_count": 6,
     "metadata": {},
     "output_type": "execute_result"
    }
   ],
   "source": [
    "dataset.head()"
   ]
  },
  {
   "cell_type": "code",
   "execution_count": 7,
   "id": "c6034a8d",
   "metadata": {},
   "outputs": [],
   "source": [
    "X=dataset.iloc[:,3:13]\n",
    "Y=dataset.iloc[:,13]"
   ]
  },
  {
   "cell_type": "code",
   "execution_count": 8,
   "id": "7bbcc569",
   "metadata": {},
   "outputs": [
    {
     "data": {
      "text/html": [
       "<div>\n",
       "<style scoped>\n",
       "    .dataframe tbody tr th:only-of-type {\n",
       "        vertical-align: middle;\n",
       "    }\n",
       "\n",
       "    .dataframe tbody tr th {\n",
       "        vertical-align: top;\n",
       "    }\n",
       "\n",
       "    .dataframe thead th {\n",
       "        text-align: right;\n",
       "    }\n",
       "</style>\n",
       "<table border=\"1\" class=\"dataframe\">\n",
       "  <thead>\n",
       "    <tr style=\"text-align: right;\">\n",
       "      <th></th>\n",
       "      <th>CreditScore</th>\n",
       "      <th>Geography</th>\n",
       "      <th>Gender</th>\n",
       "      <th>Age</th>\n",
       "      <th>Tenure</th>\n",
       "      <th>Balance</th>\n",
       "      <th>NumOfProducts</th>\n",
       "      <th>HasCrCard</th>\n",
       "      <th>IsActiveMember</th>\n",
       "      <th>EstimatedSalary</th>\n",
       "    </tr>\n",
       "  </thead>\n",
       "  <tbody>\n",
       "    <tr>\n",
       "      <th>0</th>\n",
       "      <td>619</td>\n",
       "      <td>France</td>\n",
       "      <td>Female</td>\n",
       "      <td>42</td>\n",
       "      <td>2</td>\n",
       "      <td>0.00</td>\n",
       "      <td>1</td>\n",
       "      <td>1</td>\n",
       "      <td>1</td>\n",
       "      <td>101348.88</td>\n",
       "    </tr>\n",
       "    <tr>\n",
       "      <th>1</th>\n",
       "      <td>608</td>\n",
       "      <td>Spain</td>\n",
       "      <td>Female</td>\n",
       "      <td>41</td>\n",
       "      <td>1</td>\n",
       "      <td>83807.86</td>\n",
       "      <td>1</td>\n",
       "      <td>0</td>\n",
       "      <td>1</td>\n",
       "      <td>112542.58</td>\n",
       "    </tr>\n",
       "    <tr>\n",
       "      <th>2</th>\n",
       "      <td>502</td>\n",
       "      <td>France</td>\n",
       "      <td>Female</td>\n",
       "      <td>42</td>\n",
       "      <td>8</td>\n",
       "      <td>159660.80</td>\n",
       "      <td>3</td>\n",
       "      <td>1</td>\n",
       "      <td>0</td>\n",
       "      <td>113931.57</td>\n",
       "    </tr>\n",
       "    <tr>\n",
       "      <th>3</th>\n",
       "      <td>699</td>\n",
       "      <td>France</td>\n",
       "      <td>Female</td>\n",
       "      <td>39</td>\n",
       "      <td>1</td>\n",
       "      <td>0.00</td>\n",
       "      <td>2</td>\n",
       "      <td>0</td>\n",
       "      <td>0</td>\n",
       "      <td>93826.63</td>\n",
       "    </tr>\n",
       "    <tr>\n",
       "      <th>4</th>\n",
       "      <td>850</td>\n",
       "      <td>Spain</td>\n",
       "      <td>Female</td>\n",
       "      <td>43</td>\n",
       "      <td>2</td>\n",
       "      <td>125510.82</td>\n",
       "      <td>1</td>\n",
       "      <td>1</td>\n",
       "      <td>1</td>\n",
       "      <td>79084.10</td>\n",
       "    </tr>\n",
       "  </tbody>\n",
       "</table>\n",
       "</div>"
      ],
      "text/plain": [
       "   CreditScore Geography  Gender  Age  Tenure    Balance  NumOfProducts  \\\n",
       "0          619    France  Female   42       2       0.00              1   \n",
       "1          608     Spain  Female   41       1   83807.86              1   \n",
       "2          502    France  Female   42       8  159660.80              3   \n",
       "3          699    France  Female   39       1       0.00              2   \n",
       "4          850     Spain  Female   43       2  125510.82              1   \n",
       "\n",
       "   HasCrCard  IsActiveMember  EstimatedSalary  \n",
       "0          1               1        101348.88  \n",
       "1          0               1        112542.58  \n",
       "2          1               0        113931.57  \n",
       "3          0               0         93826.63  \n",
       "4          1               1         79084.10  "
      ]
     },
     "execution_count": 8,
     "metadata": {},
     "output_type": "execute_result"
    }
   ],
   "source": [
    "X.head()"
   ]
  },
  {
   "cell_type": "code",
   "execution_count": 9,
   "id": "fb6612f9",
   "metadata": {},
   "outputs": [
    {
     "data": {
      "text/plain": [
       "0    1\n",
       "1    0\n",
       "2    1\n",
       "3    0\n",
       "4    0\n",
       "Name: Exited, dtype: int64"
      ]
     },
     "execution_count": 9,
     "metadata": {},
     "output_type": "execute_result"
    }
   ],
   "source": [
    "Y.head()"
   ]
  },
  {
   "cell_type": "code",
   "execution_count": 10,
   "id": "82ae246b",
   "metadata": {},
   "outputs": [],
   "source": [
    "##feature engineering\n",
    "geography=pd.get_dummies(X['Geography'],drop_first=True)"
   ]
  },
  {
   "cell_type": "code",
   "execution_count": 11,
   "id": "407770aa",
   "metadata": {},
   "outputs": [],
   "source": [
    "gender=pd.get_dummies(X[\"Gender\"],drop_first=True)"
   ]
  },
  {
   "cell_type": "code",
   "execution_count": 12,
   "id": "dd6f54fc",
   "metadata": {},
   "outputs": [],
   "source": [
    "##concat the variables above\n",
    "##drop the existing columns\n",
    "## axis=1 is used because we want to drop the column not the rows\n",
    "X=X.drop(['Geography','Gender'],axis=1)"
   ]
  },
  {
   "cell_type": "code",
   "execution_count": 13,
   "id": "0e261e28",
   "metadata": {},
   "outputs": [],
   "source": [
    "X=pd.concat([X,geography,gender],axis=1)"
   ]
  },
  {
   "cell_type": "code",
   "execution_count": 14,
   "id": "5b2211a7",
   "metadata": {},
   "outputs": [
    {
     "data": {
      "text/html": [
       "<div>\n",
       "<style scoped>\n",
       "    .dataframe tbody tr th:only-of-type {\n",
       "        vertical-align: middle;\n",
       "    }\n",
       "\n",
       "    .dataframe tbody tr th {\n",
       "        vertical-align: top;\n",
       "    }\n",
       "\n",
       "    .dataframe thead th {\n",
       "        text-align: right;\n",
       "    }\n",
       "</style>\n",
       "<table border=\"1\" class=\"dataframe\">\n",
       "  <thead>\n",
       "    <tr style=\"text-align: right;\">\n",
       "      <th></th>\n",
       "      <th>CreditScore</th>\n",
       "      <th>Age</th>\n",
       "      <th>Tenure</th>\n",
       "      <th>Balance</th>\n",
       "      <th>NumOfProducts</th>\n",
       "      <th>HasCrCard</th>\n",
       "      <th>IsActiveMember</th>\n",
       "      <th>EstimatedSalary</th>\n",
       "      <th>Germany</th>\n",
       "      <th>Spain</th>\n",
       "      <th>Male</th>\n",
       "    </tr>\n",
       "  </thead>\n",
       "  <tbody>\n",
       "    <tr>\n",
       "      <th>0</th>\n",
       "      <td>619</td>\n",
       "      <td>42</td>\n",
       "      <td>2</td>\n",
       "      <td>0.00</td>\n",
       "      <td>1</td>\n",
       "      <td>1</td>\n",
       "      <td>1</td>\n",
       "      <td>101348.88</td>\n",
       "      <td>0</td>\n",
       "      <td>0</td>\n",
       "      <td>0</td>\n",
       "    </tr>\n",
       "    <tr>\n",
       "      <th>1</th>\n",
       "      <td>608</td>\n",
       "      <td>41</td>\n",
       "      <td>1</td>\n",
       "      <td>83807.86</td>\n",
       "      <td>1</td>\n",
       "      <td>0</td>\n",
       "      <td>1</td>\n",
       "      <td>112542.58</td>\n",
       "      <td>0</td>\n",
       "      <td>1</td>\n",
       "      <td>0</td>\n",
       "    </tr>\n",
       "    <tr>\n",
       "      <th>2</th>\n",
       "      <td>502</td>\n",
       "      <td>42</td>\n",
       "      <td>8</td>\n",
       "      <td>159660.80</td>\n",
       "      <td>3</td>\n",
       "      <td>1</td>\n",
       "      <td>0</td>\n",
       "      <td>113931.57</td>\n",
       "      <td>0</td>\n",
       "      <td>0</td>\n",
       "      <td>0</td>\n",
       "    </tr>\n",
       "    <tr>\n",
       "      <th>3</th>\n",
       "      <td>699</td>\n",
       "      <td>39</td>\n",
       "      <td>1</td>\n",
       "      <td>0.00</td>\n",
       "      <td>2</td>\n",
       "      <td>0</td>\n",
       "      <td>0</td>\n",
       "      <td>93826.63</td>\n",
       "      <td>0</td>\n",
       "      <td>0</td>\n",
       "      <td>0</td>\n",
       "    </tr>\n",
       "    <tr>\n",
       "      <th>4</th>\n",
       "      <td>850</td>\n",
       "      <td>43</td>\n",
       "      <td>2</td>\n",
       "      <td>125510.82</td>\n",
       "      <td>1</td>\n",
       "      <td>1</td>\n",
       "      <td>1</td>\n",
       "      <td>79084.10</td>\n",
       "      <td>0</td>\n",
       "      <td>1</td>\n",
       "      <td>0</td>\n",
       "    </tr>\n",
       "  </tbody>\n",
       "</table>\n",
       "</div>"
      ],
      "text/plain": [
       "   CreditScore  Age  Tenure    Balance  NumOfProducts  HasCrCard  \\\n",
       "0          619   42       2       0.00              1          1   \n",
       "1          608   41       1   83807.86              1          0   \n",
       "2          502   42       8  159660.80              3          1   \n",
       "3          699   39       1       0.00              2          0   \n",
       "4          850   43       2  125510.82              1          1   \n",
       "\n",
       "   IsActiveMember  EstimatedSalary  Germany  Spain  Male  \n",
       "0               1        101348.88        0      0     0  \n",
       "1               1        112542.58        0      1     0  \n",
       "2               0        113931.57        0      0     0  \n",
       "3               0         93826.63        0      0     0  \n",
       "4               1         79084.10        0      1     0  "
      ]
     },
     "execution_count": 14,
     "metadata": {},
     "output_type": "execute_result"
    }
   ],
   "source": [
    "X.head()"
   ]
  },
  {
   "cell_type": "code",
   "execution_count": 15,
   "id": "f88bc3f0",
   "metadata": {},
   "outputs": [],
   "source": [
    "## training testing split\n",
    "from sklearn.model_selection import train_test_split"
   ]
  },
  {
   "cell_type": "code",
   "execution_count": 16,
   "id": "51e1d83f",
   "metadata": {},
   "outputs": [],
   "source": [
    "X_train,X_test,Y_train,Y_test=train_test_split(X,Y,test_size=0.2,random_state=0)"
   ]
  },
  {
   "cell_type": "code",
   "execution_count": 17,
   "id": "2c77a27c",
   "metadata": {},
   "outputs": [],
   "source": [
    "##Feature Scaling\n",
    "from sklearn.preprocessing import StandardScaler\n",
    "sc=StandardScaler()\n",
    "X_train=sc.fit_transform(X_train)\n",
    "X_test=sc.transform(X_test)"
   ]
  },
  {
   "cell_type": "code",
   "execution_count": 18,
   "id": "a1cdc13a",
   "metadata": {},
   "outputs": [
    {
     "data": {
      "text/plain": [
       "array([[ 0.16958176, -0.46460796,  0.00666099, ..., -0.5698444 ,\n",
       "         1.74309049, -1.09168714],\n",
       "       [-2.30455945,  0.30102557, -1.37744033, ...,  1.75486502,\n",
       "        -0.57369368,  0.91601335],\n",
       "       [-1.19119591, -0.94312892, -1.031415  , ..., -0.5698444 ,\n",
       "        -0.57369368, -1.09168714],\n",
       "       ...,\n",
       "       [ 0.9015152 , -0.36890377,  0.00666099, ..., -0.5698444 ,\n",
       "        -0.57369368,  0.91601335],\n",
       "       [-0.62420521, -0.08179119,  1.39076231, ..., -0.5698444 ,\n",
       "         1.74309049, -1.09168714],\n",
       "       [-0.28401079,  0.87525072, -1.37744033, ...,  1.75486502,\n",
       "        -0.57369368, -1.09168714]])"
      ]
     },
     "execution_count": 18,
     "metadata": {},
     "output_type": "execute_result"
    }
   ],
   "source": [
    "X_train"
   ]
  },
  {
   "cell_type": "code",
   "execution_count": 19,
   "id": "ea9ddbaf",
   "metadata": {},
   "outputs": [
    {
     "data": {
      "text/plain": [
       "array([[-0.55204276, -0.36890377,  1.04473698, ...,  1.75486502,\n",
       "        -0.57369368, -1.09168714],\n",
       "       [-1.31490297,  0.10961719, -1.031415  , ..., -0.5698444 ,\n",
       "        -0.57369368, -1.09168714],\n",
       "       [ 0.57162971,  0.30102557,  1.04473698, ..., -0.5698444 ,\n",
       "         1.74309049, -1.09168714],\n",
       "       ...,\n",
       "       [-0.74791227, -0.27319958, -1.37744033, ..., -0.5698444 ,\n",
       "         1.74309049,  0.91601335],\n",
       "       [-0.00566991, -0.46460796, -0.33936434, ...,  1.75486502,\n",
       "        -0.57369368,  0.91601335],\n",
       "       [-0.79945688, -0.84742473,  1.04473698, ...,  1.75486502,\n",
       "        -0.57369368,  0.91601335]])"
      ]
     },
     "execution_count": 19,
     "metadata": {},
     "output_type": "execute_result"
    }
   ],
   "source": [
    "X_test"
   ]
  },
  {
   "cell_type": "code",
   "execution_count": 20,
   "id": "0cd33ffb",
   "metadata": {},
   "outputs": [
    {
     "data": {
      "text/plain": [
       "(8000, 11)"
      ]
     },
     "execution_count": 20,
     "metadata": {},
     "output_type": "execute_result"
    }
   ],
   "source": [
    "X_train.shape"
   ]
  },
  {
   "cell_type": "code",
   "execution_count": 21,
   "id": "ffd8c79b",
   "metadata": {},
   "outputs": [],
   "source": [
    " ##ANN\n",
    "from tensorflow.keras.models import Sequential\n",
    "from tensorflow.keras.layers import Dense\n",
    "from tensorflow.keras.layers import LeakyReLU,PReLU,ELU,ReLU\n",
    "from tensorflow.keras.layers import Dropout"
   ]
  },
  {
   "cell_type": "code",
   "execution_count": 22,
   "id": "797a3503",
   "metadata": {},
   "outputs": [
    {
     "name": "stdout",
     "output_type": "stream",
     "text": [
      "WARNING:tensorflow:From C:\\Users\\91626\\anaconda3\\lib\\site-packages\\keras\\src\\backend.py:873: The name tf.get_default_graph is deprecated. Please use tf.compat.v1.get_default_graph instead.\n",
      "\n"
     ]
    }
   ],
   "source": [
    "##intializing the ANN\n",
    "classifier=Sequential()"
   ]
  },
  {
   "cell_type": "code",
   "execution_count": 23,
   "id": "c7f9b7c4",
   "metadata": {},
   "outputs": [],
   "source": [
    "##adding the input layer\n",
    "classifier.add(Dense(units=11,activation='relu'))\n"
   ]
  },
  {
   "cell_type": "code",
   "execution_count": 24,
   "id": "cb506cf8",
   "metadata": {},
   "outputs": [],
   "source": [
    "##adding hidden layer\n",
    "classifier.add(Dense(units=7,activation='relu'))"
   ]
  },
  {
   "cell_type": "code",
   "execution_count": 25,
   "id": "b89bb481",
   "metadata": {},
   "outputs": [],
   "source": [
    "##adding second hidden layer\n",
    "classifier.add(Dense(units=6,activation='relu'))"
   ]
  },
  {
   "cell_type": "code",
   "execution_count": 26,
   "id": "61deadf0",
   "metadata": {},
   "outputs": [],
   "source": [
    "##adding output layer\n",
    "classifier.add(Dense(1,activation='sigmoid'))"
   ]
  },
  {
   "cell_type": "code",
   "execution_count": 27,
   "id": "a86fee4a",
   "metadata": {},
   "outputs": [
    {
     "name": "stdout",
     "output_type": "stream",
     "text": [
      "WARNING:tensorflow:From C:\\Users\\91626\\anaconda3\\lib\\site-packages\\keras\\src\\optimizers\\__init__.py:309: The name tf.train.Optimizer is deprecated. Please use tf.compat.v1.train.Optimizer instead.\n",
      "\n"
     ]
    }
   ],
   "source": [
    "classifier.compile(optimizer='adam',loss='binary_crossentropy',metrics=['accuracy'])"
   ]
  },
  {
   "cell_type": "code",
   "execution_count": 28,
   "id": "5c8c5a2f",
   "metadata": {},
   "outputs": [],
   "source": [
    "import tensorflow\n",
    "opt=tensorflow.keras.optimizers.Adam(learning_rate=0.01)"
   ]
  },
  {
   "cell_type": "code",
   "execution_count": 29,
   "id": "fd6c37ed",
   "metadata": {},
   "outputs": [],
   "source": [
    "##EarlyStopping\n",
    "import tensorflow as tf\n",
    "early_stopping=tf.keras.callbacks.EarlyStopping(\n",
    "    monitor=\"val_loss\",\n",
    "    min_delta=0.0001,\n",
    "    patience=20,\n",
    "    verbose=1,\n",
    "    mode=\"auto\",\n",
    "    baseline=None,\n",
    "    restore_best_weights=False,\n",
    "    start_from_epoch=0,\n",
    ")\n",
    "\n"
   ]
  },
  {
   "cell_type": "code",
   "execution_count": 30,
   "id": "a5204241",
   "metadata": {},
   "outputs": [
    {
     "name": "stdout",
     "output_type": "stream",
     "text": [
      "Epoch 1/1000\n",
      "WARNING:tensorflow:From C:\\Users\\91626\\anaconda3\\lib\\site-packages\\keras\\src\\utils\\tf_utils.py:492: The name tf.ragged.RaggedTensorValue is deprecated. Please use tf.compat.v1.ragged.RaggedTensorValue instead.\n",
      "\n",
      "WARNING:tensorflow:From C:\\Users\\91626\\anaconda3\\lib\\site-packages\\keras\\src\\engine\\base_layer_utils.py:384: The name tf.executing_eagerly_outside_functions is deprecated. Please use tf.compat.v1.executing_eagerly_outside_functions instead.\n",
      "\n",
      "536/536 [==============================] - 6s 7ms/step - loss: 0.4980 - accuracy: 0.7921 - val_loss: 0.4525 - val_accuracy: 0.7970\n",
      "Epoch 2/1000\n",
      "536/536 [==============================] - 4s 7ms/step - loss: 0.4317 - accuracy: 0.8059 - val_loss: 0.4325 - val_accuracy: 0.8046\n",
      "Epoch 3/1000\n",
      "536/536 [==============================] - 4s 7ms/step - loss: 0.4134 - accuracy: 0.8123 - val_loss: 0.4223 - val_accuracy: 0.8095\n",
      "Epoch 4/1000\n",
      "536/536 [==============================] - 3s 6ms/step - loss: 0.3991 - accuracy: 0.8207 - val_loss: 0.4131 - val_accuracy: 0.8167\n",
      "Epoch 5/1000\n",
      "536/536 [==============================] - 4s 7ms/step - loss: 0.3855 - accuracy: 0.8300 - val_loss: 0.3991 - val_accuracy: 0.8228\n",
      "Epoch 6/1000\n",
      "536/536 [==============================] - 5s 9ms/step - loss: 0.3741 - accuracy: 0.8410 - val_loss: 0.3884 - val_accuracy: 0.8266\n",
      "Epoch 7/1000\n",
      "536/536 [==============================] - 3s 6ms/step - loss: 0.3632 - accuracy: 0.8517 - val_loss: 0.3778 - val_accuracy: 0.8368\n",
      "Epoch 8/1000\n",
      "536/536 [==============================] - 4s 7ms/step - loss: 0.3529 - accuracy: 0.8565 - val_loss: 0.3721 - val_accuracy: 0.8383\n",
      "Epoch 9/1000\n",
      "536/536 [==============================] - 3s 6ms/step - loss: 0.3462 - accuracy: 0.8554 - val_loss: 0.3674 - val_accuracy: 0.8413\n",
      "Epoch 10/1000\n",
      "536/536 [==============================] - 3s 6ms/step - loss: 0.3415 - accuracy: 0.8580 - val_loss: 0.3640 - val_accuracy: 0.8455\n",
      "Epoch 11/1000\n",
      "536/536 [==============================] - 3s 6ms/step - loss: 0.3377 - accuracy: 0.8571 - val_loss: 0.3610 - val_accuracy: 0.8501\n",
      "Epoch 12/1000\n",
      "536/536 [==============================] - 3s 6ms/step - loss: 0.3357 - accuracy: 0.8561 - val_loss: 0.3630 - val_accuracy: 0.8504\n",
      "Epoch 13/1000\n",
      "536/536 [==============================] - 3s 6ms/step - loss: 0.3341 - accuracy: 0.8612 - val_loss: 0.3616 - val_accuracy: 0.8493\n",
      "Epoch 14/1000\n",
      "536/536 [==============================] - 3s 6ms/step - loss: 0.3318 - accuracy: 0.8612 - val_loss: 0.3615 - val_accuracy: 0.8478\n",
      "Epoch 15/1000\n",
      "536/536 [==============================] - 5s 9ms/step - loss: 0.3310 - accuracy: 0.8610 - val_loss: 0.3600 - val_accuracy: 0.8519\n",
      "Epoch 16/1000\n",
      "536/536 [==============================] - 4s 8ms/step - loss: 0.3304 - accuracy: 0.8604 - val_loss: 0.3598 - val_accuracy: 0.8519\n",
      "Epoch 17/1000\n",
      "536/536 [==============================] - 4s 8ms/step - loss: 0.3295 - accuracy: 0.8608 - val_loss: 0.3577 - val_accuracy: 0.8512\n",
      "Epoch 18/1000\n",
      "536/536 [==============================] - 4s 7ms/step - loss: 0.3289 - accuracy: 0.8606 - val_loss: 0.3593 - val_accuracy: 0.8519\n",
      "Epoch 19/1000\n",
      "536/536 [==============================] - 4s 7ms/step - loss: 0.3274 - accuracy: 0.8608 - val_loss: 0.3589 - val_accuracy: 0.8504\n",
      "Epoch 20/1000\n",
      "536/536 [==============================] - 3s 7ms/step - loss: 0.3268 - accuracy: 0.8632 - val_loss: 0.3577 - val_accuracy: 0.8516\n",
      "Epoch 21/1000\n",
      "536/536 [==============================] - 3s 6ms/step - loss: 0.3264 - accuracy: 0.8612 - val_loss: 0.3571 - val_accuracy: 0.8512\n",
      "Epoch 22/1000\n",
      "536/536 [==============================] - 5s 9ms/step - loss: 0.3252 - accuracy: 0.8608 - val_loss: 0.3602 - val_accuracy: 0.8546\n",
      "Epoch 23/1000\n",
      "536/536 [==============================] - 3s 6ms/step - loss: 0.3251 - accuracy: 0.8621 - val_loss: 0.3571 - val_accuracy: 0.8527\n",
      "Epoch 24/1000\n",
      "536/536 [==============================] - 4s 8ms/step - loss: 0.3238 - accuracy: 0.8621 - val_loss: 0.3612 - val_accuracy: 0.8466\n",
      "Epoch 25/1000\n",
      "536/536 [==============================] - 4s 7ms/step - loss: 0.3240 - accuracy: 0.8625 - val_loss: 0.3577 - val_accuracy: 0.8519\n",
      "Epoch 26/1000\n",
      "536/536 [==============================] - 4s 8ms/step - loss: 0.3234 - accuracy: 0.8632 - val_loss: 0.3589 - val_accuracy: 0.8466\n",
      "Epoch 27/1000\n",
      "536/536 [==============================] - 4s 7ms/step - loss: 0.3239 - accuracy: 0.8617 - val_loss: 0.3573 - val_accuracy: 0.8516\n",
      "Epoch 28/1000\n",
      "536/536 [==============================] - 4s 8ms/step - loss: 0.3236 - accuracy: 0.8628 - val_loss: 0.3576 - val_accuracy: 0.8531\n",
      "Epoch 29/1000\n",
      "536/536 [==============================] - 4s 7ms/step - loss: 0.3233 - accuracy: 0.8627 - val_loss: 0.3593 - val_accuracy: 0.8550\n",
      "Epoch 30/1000\n",
      "536/536 [==============================] - 4s 7ms/step - loss: 0.3220 - accuracy: 0.8621 - val_loss: 0.3573 - val_accuracy: 0.8550\n",
      "Epoch 31/1000\n",
      "536/536 [==============================] - 4s 8ms/step - loss: 0.3219 - accuracy: 0.8642 - val_loss: 0.3578 - val_accuracy: 0.8538\n",
      "Epoch 32/1000\n",
      "536/536 [==============================] - 4s 7ms/step - loss: 0.3218 - accuracy: 0.8634 - val_loss: 0.3570 - val_accuracy: 0.8531\n",
      "Epoch 33/1000\n",
      "536/536 [==============================] - 4s 8ms/step - loss: 0.3206 - accuracy: 0.8640 - val_loss: 0.3622 - val_accuracy: 0.8444\n",
      "Epoch 34/1000\n",
      "536/536 [==============================] - 4s 8ms/step - loss: 0.3203 - accuracy: 0.8625 - val_loss: 0.3589 - val_accuracy: 0.8519\n",
      "Epoch 35/1000\n",
      "536/536 [==============================] - 4s 7ms/step - loss: 0.3203 - accuracy: 0.8634 - val_loss: 0.3600 - val_accuracy: 0.8470\n",
      "Epoch 36/1000\n",
      "536/536 [==============================] - 4s 8ms/step - loss: 0.3197 - accuracy: 0.8649 - val_loss: 0.3609 - val_accuracy: 0.8527\n",
      "Epoch 37/1000\n",
      "536/536 [==============================] - 4s 7ms/step - loss: 0.3201 - accuracy: 0.8627 - val_loss: 0.3606 - val_accuracy: 0.8508\n",
      "Epoch 38/1000\n",
      "536/536 [==============================] - 4s 8ms/step - loss: 0.3194 - accuracy: 0.8636 - val_loss: 0.3593 - val_accuracy: 0.8535\n",
      "Epoch 39/1000\n",
      "536/536 [==============================] - 4s 7ms/step - loss: 0.3186 - accuracy: 0.8640 - val_loss: 0.3626 - val_accuracy: 0.8489\n",
      "Epoch 40/1000\n",
      "536/536 [==============================] - 5s 9ms/step - loss: 0.3193 - accuracy: 0.8645 - val_loss: 0.3619 - val_accuracy: 0.8466\n",
      "Epoch 41/1000\n",
      "536/536 [==============================] - 5s 9ms/step - loss: 0.3190 - accuracy: 0.8651 - val_loss: 0.3627 - val_accuracy: 0.8546\n",
      "Epoch 42/1000\n",
      "536/536 [==============================] - 4s 7ms/step - loss: 0.3181 - accuracy: 0.8677 - val_loss: 0.3604 - val_accuracy: 0.8504\n",
      "Epoch 43/1000\n",
      "536/536 [==============================] - 5s 9ms/step - loss: 0.3185 - accuracy: 0.8668 - val_loss: 0.3619 - val_accuracy: 0.8512\n",
      "Epoch 44/1000\n",
      "536/536 [==============================] - 4s 7ms/step - loss: 0.3178 - accuracy: 0.8653 - val_loss: 0.3612 - val_accuracy: 0.8512\n",
      "Epoch 45/1000\n",
      "536/536 [==============================] - 4s 8ms/step - loss: 0.3176 - accuracy: 0.8651 - val_loss: 0.3622 - val_accuracy: 0.8497\n",
      "Epoch 46/1000\n",
      "536/536 [==============================] - 4s 7ms/step - loss: 0.3169 - accuracy: 0.8651 - val_loss: 0.3651 - val_accuracy: 0.8493\n",
      "Epoch 47/1000\n",
      "536/536 [==============================] - 4s 7ms/step - loss: 0.3174 - accuracy: 0.8643 - val_loss: 0.3617 - val_accuracy: 0.8497\n",
      "Epoch 48/1000\n",
      "536/536 [==============================] - 4s 8ms/step - loss: 0.3163 - accuracy: 0.8647 - val_loss: 0.3630 - val_accuracy: 0.8527\n",
      "Epoch 49/1000\n",
      "536/536 [==============================] - 4s 7ms/step - loss: 0.3165 - accuracy: 0.8664 - val_loss: 0.3623 - val_accuracy: 0.8501\n",
      "Epoch 50/1000\n",
      "536/536 [==============================] - 4s 7ms/step - loss: 0.3161 - accuracy: 0.8632 - val_loss: 0.3621 - val_accuracy: 0.8519\n",
      "Epoch 51/1000\n",
      "536/536 [==============================] - 4s 8ms/step - loss: 0.3156 - accuracy: 0.8673 - val_loss: 0.3645 - val_accuracy: 0.8501\n",
      "Epoch 52/1000\n",
      "536/536 [==============================] - 4s 7ms/step - loss: 0.3158 - accuracy: 0.8655 - val_loss: 0.3635 - val_accuracy: 0.8531\n",
      "Epoch 52: early stopping\n"
     ]
    }
   ],
   "source": [
    "model_history=classifier.fit(X_train,Y_train,validation_split=0.33,batch_size=10,epochs=1000,callbacks=early_stopping)"
   ]
  },
  {
   "cell_type": "code",
   "execution_count": 33,
   "id": "89962e14",
   "metadata": {},
   "outputs": [
    {
     "data": {
      "text/plain": [
       "dict_keys(['loss', 'accuracy', 'val_loss', 'val_accuracy'])"
      ]
     },
     "execution_count": 33,
     "metadata": {},
     "output_type": "execute_result"
    }
   ],
   "source": [
    "model_history.history.keys()"
   ]
  },
  {
   "cell_type": "code",
   "execution_count": 35,
   "id": "d70e5b13",
   "metadata": {},
   "outputs": [
    {
     "data": {
      "image/png": "[encoded data removed]",
      "text/plain": [
       "<Figure size 640x480 with 1 Axes>"
      ]
     },
     "metadata": {},
     "output_type": "display_data"
    }
   ],
   "source": [
    "plt.plot(model_history.history['accuracy'])\n",
    "plt.plot(model_history.history['val_accuracy'])\n",
    "plt.title('model_accuracy')\n",
    "plt.ylabel('accuracy')\n",
    "plt.xlabel('epoch')\n",
    "plt.legend(['train','test'],loc='upper left')\n",
    "plt.show()"
   ]
  },
  {
   "cell_type": "code",
   "execution_count": 36,
   "id": "12300e2c",
   "metadata": {},
   "outputs": [
    {
     "data": {
      "image/png": "[encoded data removed]",
      "text/plain": [
       "<Figure size 640x480 with 1 Axes>"
      ]
     },
     "metadata": {},
     "output_type": "display_data"
    }
   ],
   "source": [
    "plt.plot(model_history.history['loss'])\n",
    "plt.plot(model_history.history['val_loss'])\n",
    "plt.title('model_loss')\n",
    "plt.ylabel('loss')\n",
    "plt.xlabel('epoch')\n",
    "plt.legend(['train','test'],loc='upper left')\n",
    "plt.show()"
   ]
  },
  {
   "cell_type": "code",
   "execution_count": 38,
   "id": "69168beb",
   "metadata": {},
   "outputs": [
    {
     "name": "stdout",
     "output_type": "stream",
     "text": [
      "63/63 [==============================] - 0s 3ms/step\n"
     ]
    }
   ],
   "source": [
    "##preddicting the test set results\n",
    "y_pred=classifier.predict(X_test)\n",
    "y_pred=(y_pred>=0.5)"
   ]
  },
  {
   "cell_type": "code",
   "execution_count": 39,
   "id": "7370bdd5",
   "metadata": {},
   "outputs": [],
   "source": [
    "##make confusion metric\n",
    "from sklearn.metrics import confusion_matrix\n",
    "cm=confusion_matrix(Y_test,y_pred)"
   ]
  },
  {
   "cell_type": "code",
   "execution_count": 40,
   "id": "2ae9474a",
   "metadata": {},
   "outputs": [
    {
     "data": {
      "text/plain": [
       "array([[1518,   77],\n",
       "       [ 214,  191]], dtype=int64)"
      ]
     },
     "execution_count": 40,
     "metadata": {},
     "output_type": "execute_result"
    }
   ],
   "source": [
    "cm"
   ]
  },
  {
   "cell_type": "code",
   "execution_count": 41,
   "id": "47440736",
   "metadata": {},
   "outputs": [],
   "source": [
    "from sklearn.metrics import accuracy_score\n",
    "score=accuracy_score(Y_test,y_pred)"
   ]
  },
  {
   "cell_type": "code",
   "execution_count": 42,
   "id": "b43e858b",
   "metadata": {},
   "outputs": [
    {
     "data": {
      "text/plain": [
       "0.8545"
      ]
     },
     "execution_count": 42,
     "metadata": {},
     "output_type": "execute_result"
    }
   ],
   "source": [
    "score"
   ]
  },
  {
   "cell_type": "code",
   "execution_count": 43,
   "id": "00914562",
   "metadata": {},
   "outputs": [
    {
     "data": {
      "text/plain": [
       "[array([[-0.06527334,  0.2953669 , -0.10217479, -0.01850479, -0.2012112 ,\n",
       "          0.34392688,  0.09291545,  0.12376787,  0.16052108, -0.01115975,\n",
       "         -0.42645165],\n",
       "        [ 0.19615793, -0.49642062, -0.82527333,  1.0005424 ,  0.5182631 ,\n",
       "          0.5417942 ,  0.0173039 ,  0.33133516, -0.09203354,  0.31496707,\n",
       "         -0.1815253 ],\n",
       "        [ 0.03742252, -0.13248804, -0.24994834, -0.17752711,  0.04163643,\n",
       "          0.61122763, -0.11658411, -0.10001125,  0.06328595,  0.13341874,\n",
       "          0.52685803],\n",
       "        [ 0.23129931,  0.11596306, -0.08784152,  0.39821595, -0.5562616 ,\n",
       "         -0.7150902 ,  0.78910893,  0.20603211, -0.19877158,  0.3514446 ,\n",
       "         -0.15645246],\n",
       "        [ 0.6830491 ,  0.6983028 ,  0.15763631,  0.28684747, -0.88736516,\n",
       "          0.2577297 , -0.37935498, -0.06775109,  0.46770978,  1.0979187 ,\n",
       "         -0.01801229],\n",
       "        [-0.36416224, -0.3321806 , -0.42034844, -0.00609941, -0.05663835,\n",
       "         -0.4237178 , -0.37136894,  0.06898484,  0.4393543 ,  0.09346389,\n",
       "         -0.22354746],\n",
       "        [ 0.06339808, -0.40038666,  0.4302847 ,  0.07574058, -0.00871515,\n",
       "          0.5406827 , -0.20613834, -1.1056895 , -0.46150446,  0.04169704,\n",
       "          0.62624055],\n",
       "        [ 0.1775033 ,  0.13790396,  0.3555396 , -0.21775493, -0.0076758 ,\n",
       "          0.43067732,  0.37541914,  0.07785647, -0.20398664,  0.10433393,\n",
       "         -0.45834535],\n",
       "        [-0.00480776,  0.24111944, -0.1554051 , -0.04189095,  0.20204403,\n",
       "          0.2533505 ,  0.54452384,  0.09723222, -0.21047765,  0.33218095,\n",
       "          0.21513693],\n",
       "        [ 0.16623953, -0.24119686, -0.28035218, -0.0986171 , -0.03155932,\n",
       "          0.22720796, -0.4764998 ,  0.2477997 , -0.5939337 ,  0.05418616,\n",
       "          0.297899  ],\n",
       "        [-0.15600479, -0.6198183 ,  0.41127285,  0.0764401 , -0.03133028,\n",
       "          0.08734223, -0.22395234,  0.09669968,  0.4921359 ,  0.0182727 ,\n",
       "          0.3088187 ]], dtype=float32),\n",
       " array([-0.6990864 ,  0.41997176,  0.46868762, -0.54396003, -0.28833526,\n",
       "        -0.12618254,  0.16162632, -0.04229675,  0.6469617 , -0.46320695,\n",
       "        -0.2217501 ], dtype=float32),\n",
       " array([[ 0.59553456,  0.66684425,  0.03608455,  0.09668209, -0.460528  ,\n",
       "         -0.32524598, -0.73232394],\n",
       "        [ 0.12749918, -0.01061064, -0.11819156,  0.41676682, -0.06298601,\n",
       "         -1.4642056 ,  0.01361925],\n",
       "        [-0.6429629 ,  0.5692365 , -1.0370761 ,  0.19258168,  0.37571523,\n",
       "         -0.3225237 ,  0.2982899 ],\n",
       "        [-0.19617154,  0.4587551 ,  0.28008378, -0.955141  , -0.11802615,\n",
       "          0.87973535,  0.40229088],\n",
       "        [ 0.04400348, -0.16309403, -0.08423015, -0.12968825, -0.77925247,\n",
       "          0.05191411,  0.45392644],\n",
       "        [ 0.12270907, -0.32216692, -1.3343606 , -0.20402452,  0.4827474 ,\n",
       "          0.4817104 ,  0.44934547],\n",
       "        [-0.23050305, -0.8573306 , -0.58716595,  0.26849067, -0.27875546,\n",
       "         -0.22403169,  0.47953182],\n",
       "        [ 0.6202104 ,  0.05119431,  0.05293247,  0.47212115,  0.17798747,\n",
       "         -0.2111734 ,  0.24106172],\n",
       "        [ 0.39147717,  0.080331  ,  0.06516568,  0.28918976,  0.20082207,\n",
       "         -0.20171593, -0.16506338],\n",
       "        [ 0.34918135,  0.55015475,  0.3595915 , -0.03874928, -0.37964964,\n",
       "          0.39358005, -0.8613759 ],\n",
       "        [-0.1737799 , -0.31359714,  0.28878593,  0.3748471 ,  0.06194869,\n",
       "          0.00598294,  0.23851405]], dtype=float32),\n",
       " array([ 0.06952334, -0.3151664 ,  0.04066421,  0.6024653 ,  0.35401553,\n",
       "        -0.35795403, -0.06819993], dtype=float32),\n",
       " array([[-0.32303718, -0.37223634,  0.638563  , -1.1326554 , -0.28433928,\n",
       "          0.28694463],\n",
       "        [-0.22735573, -0.20147452,  0.91537356,  0.18564434, -0.6461211 ,\n",
       "         -0.5799229 ],\n",
       "        [ 1.0112798 , -0.07530283,  0.01287889,  0.65089375,  0.9816664 ,\n",
       "         -0.21645828],\n",
       "        [ 0.65191716,  0.48137844,  0.3769786 , -0.26248896,  0.832973  ,\n",
       "          0.00840642],\n",
       "        [ 0.39946374,  0.79676175, -0.41549015,  0.5467975 ,  0.56229585,\n",
       "          0.6495946 ],\n",
       "        [-0.38256174,  0.50150174, -0.66021854,  0.9892547 , -0.15446202,\n",
       "          0.13296199],\n",
       "        [-0.16937713,  0.3658132 ,  0.84476054,  0.3792236 , -0.46139714,\n",
       "         -0.37347525]], dtype=float32),\n",
       " array([ 0.3213046 ,  0.29663455, -0.00454817,  0.31243744,  0.58764243,\n",
       "         0.24762365], dtype=float32),\n",
       " array([[-0.30359805],\n",
       "        [-0.64519703],\n",
       "        [ 1.2470288 ],\n",
       "        [-0.6252411 ],\n",
       "        [-1.1803418 ],\n",
       "        [-0.3582769 ]], dtype=float32),\n",
       " array([0.00073102], dtype=float32)]"
      ]
     },
     "execution_count": 43,
     "metadata": {},
     "output_type": "execute_result"
    }
   ],
   "source": [
    "##get the weights\n",
    "classifier.get_weights()"
   ]
  },
  {
   "cell_type": "code",
   "execution_count": null,
   "id": "0073728d",
   "metadata": {},
   "outputs": [],
   "source": []
  }
 ],
 "metadata": {
  "kernelspec": {
   "display_name": "Python 3 (ipykernel)",
   "language": "python",
   "name": "python3"
  },
  "language_info": {
   "codemirror_mode": {
    "name": "ipython",
    "version": 3
   },
   "file_extension": ".py",
   "mimetype": "text/x-python",
   "name": "python",
   "nbconvert_exporter": "python",
   "pygments_lexer": "ipython3",
   "version": "3.9.13"
  }
 },
 "nbformat": 4,
 "nbformat_minor": 5
}
